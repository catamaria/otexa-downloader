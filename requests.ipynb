{
 "cells": [
  {
   "cell_type": "code",
   "execution_count": null,
   "id": "366fbb41-10c6-4a5c-80b0-5f2cbde31936",
   "metadata": {},
   "outputs": [],
   "source": [
    "import requests\n",
    "import pandas\n"
   ]
  },
  {
   "cell_type": "code",
   "execution_count": null,
   "id": "fae772e4-7187-4b08-96d7-1905fb81bf07",
   "metadata": {},
   "outputs": [],
   "source": [
    "%pip install requests-toolbelt"
   ]
  },
  {
   "cell_type": "code",
   "execution_count": null,
   "id": "a2a9f3b3-6131-4f8b-8007-fe6b22a23353",
   "metadata": {},
   "outputs": [],
   "source": [
    "years = [2012,2013,2014,2015,2016,2017,2018,2019,2020,2021]\n",
    "cat=[339,347,348,340,352,652]\n",
    "for n in cat\n",
    "    globals()[f\"category{n}\"]=pandas.DataFrame()\n",
    "    \n",
    "    for i in years:\n",
    "        params = {\n",
    "            \"ctry\":'' ,\n",
    "            \"cat\": f'{n}',\n",
    "            \"delimit\": 'table',\n",
    "            \"years\": f'{i}'\n",
    "        }\n",
    "        data = params\n",
    "        headers = {\n",
    "            'Content-type': data.content_type\n",
    "        }\n",
    "        response = requests.post(\n",
    "            'https://otexa.trade.gov/scripts/tqmon2.exe/catdata',\n",
    "            data = params,\n",
    "            headers = headers\n",
    "        )\n",
    "        year=pandas.read_html(response.text)[0]\n",
    "        year['Valueperc'] = year['Value'] /year['Value'].values[0]\n",
    "        year['quantityperc'] = year['Quantity']/year['Quantity'].values[0]\n",
    "        globals()[f\"category{n}\"]=globals()[f\"category{n}\"].append(year)\n",
    "        \n",
    "        globals()[f\"category{n}\"].to_csv(f'{n}.csv')\n",
    "        print(globals()[f\"category{n}\"])\n",
    "        \n"
   ]
  },
  {
   "cell_type": "code",
   "execution_count": null,
   "id": "bf00c12e-81c0-4099-968e-1627b58a164f",
   "metadata": {},
   "outputs": [],
   "source": []
  },
  {
   "cell_type": "code",
   "execution_count": null,
   "id": "42ce2e0f-28a8-4d29-9757-d85ccb24929a",
   "metadata": {},
   "outputs": [],
   "source": [
    "pandas.read_html(response.text)"
   ]
  },
  {
   "cell_type": "code",
   "execution_count": null,
   "id": "14b653d7-fc7f-47bd-a1ea-95e3fea6f1f6",
   "metadata": {},
   "outputs": [],
   "source": [
    "year=pandas.read_html(response.text)[0]\n",
    "year['Valueperc'] = year['Value'] /year['Value'].values[0]\n",
    "year['quantityperc'] = year['Quantity']/year['Quantity'].values[0]"
   ]
  },
  {
   "cell_type": "code",
   "execution_count": null,
   "id": "afaf11c1-beca-42f8-9d32-ff82b896d7f0",
   "metadata": {},
   "outputs": [],
   "source": [
    "year['Quantity'].get_values()[0]"
   ]
  },
  {
   "cell_type": "code",
   "execution_count": null,
   "id": "c1ffeb99-651d-44ba-8270-1387eb759e14",
   "metadata": {},
   "outputs": [],
   "source": [
    "year[0]['Value'][0]"
   ]
  },
  {
   "cell_type": "code",
   "execution_count": null,
   "id": "425ae468-db7b-489c-9000-b1b8b18e0f90",
   "metadata": {},
   "outputs": [],
   "source": [
    "categories=pandas.read_html('https://otexa.trade.gov/msrcat.htm')"
   ]
  },
  {
   "cell_type": "code",
   "execution_count": null,
   "id": "8aaf7079-eea5-4de0-9f88-cbb562b3d756",
   "metadata": {},
   "outputs": [],
   "source": [
    "cat=categories[0]"
   ]
  },
  {
   "cell_type": "code",
   "execution_count": null,
   "id": "ebc3c00e-70c6-4373-9738-dac861254764",
   "metadata": {},
   "outputs": [],
   "source": [
    "cat=categories[0]\n",
    "idx=cat[cat['NOTIONAL CATEGORIES (Aggregations)']=='APPAREL:'].index[0]\n",
    "cat = cat[idx+1:]"
   ]
  },
  {
   "cell_type": "code",
   "execution_count": null,
   "id": "ab49d5dc-952c-4eee-a6cf-280dc43b1034",
   "metadata": {},
   "outputs": [],
   "source": [
    "cat[cat['NOTIONAL CATEGORIES (Aggregations)']=='MADE-UPS:'].index[0]"
   ]
  },
  {
   "cell_type": "code",
   "execution_count": null,
   "id": "d666cc6e-2263-43bf-bff9-5f8a92b6263e",
   "metadata": {},
   "outputs": [],
   "source": [
    "cat=cat[:96]"
   ]
  },
  {
   "cell_type": "code",
   "execution_count": null,
   "id": "88a57b0c-ac72-4d03-8b04-c6290178b70b",
   "metadata": {},
   "outputs": [],
   "source": [
    "import re\n",
    "search = []    \n",
    "for values in cat['NOTIONAL CATEGORIES (Aggregations)']:\n",
    "    search.append(re.search(r'\\d+', values).group())"
   ]
  },
  {
   "cell_type": "code",
   "execution_count": null,
   "id": "700da10f-5363-4892-9ee9-2c9bc2d538b9",
   "metadata": {},
   "outputs": [],
   "source": [
    "cat['categories'] = search"
   ]
  },
  {
   "cell_type": "code",
   "execution_count": null,
   "id": "46cc1933-c82d-4ff0-803a-b56f9c0912d1",
   "metadata": {},
   "outputs": [],
   "source": [
    "search=list(map(int, search))"
   ]
  },
  {
   "cell_type": "code",
   "execution_count": null,
   "id": "2a33ddb5-4730-4408-8af2-418cb3031c1e",
   "metadata": {},
   "outputs": [],
   "source": [
    "oldcat=[338,339,347,348,340,352,652]\n",
    "\n",
    "for element in oldcat:\n",
    "    if element in search:\n",
    "        search.remove(element)"
   ]
  },
  {
   "cell_type": "code",
   "execution_count": null,
   "id": "ace9da2f-b096-4739-8beb-3ba6fb3afa95",
   "metadata": {},
   "outputs": [],
   "source": [
    "years = [2012,2013,2014,2015,2016,2017,2018,2019,2020,2021]\n",
    "keys=search\n",
    "for n in keys:\n",
    "    globals()[f\"category{n}\"]=pandas.DataFrame()\n",
    "    \n",
    "    for i in years:\n",
    "        params = {\n",
    "            \"ctry\":'' ,\n",
    "            \"cat\": f'{n}',\n",
    "            \"delimit\": 'table',\n",
    "            \"years\": f'{i}'\n",
    "        }\n",
    "        \n",
    "        response = requests.post(\n",
    "            'https://otexa.trade.gov/scripts/tqmon2.exe/catdata',\n",
    "            data = params\n",
    "        )\n",
    "        year=pandas.read_html(response.text)[0]\n",
    "        #year['Valueperc'] = year['Value'] /year['Value'].values[0]\n",
    "        #year['quantityperc'] = year['Quantity']/year['Quantity'].values[0]\n",
    "        globals()[f\"category{n}\"]=globals()[f\"category{n}\"].append(year)\n",
    "        \n",
    "        globals()[f\"category{n}\"].to_csv(f'{n}.csv')\n",
    "        print(globals()[f\"category{n}\"])"
   ]
  },
  {
   "cell_type": "code",
   "execution_count": null,
   "id": "0b9b1e91-6b9c-465d-b5b6-62ddd1429233",
   "metadata": {},
   "outputs": [],
   "source": [
    "cat.to_csv('apparelcateg.csv')"
   ]
  },
  {
   "cell_type": "code",
   "execution_count": null,
   "id": "ad2866be-31f4-49d2-8a0d-dc69dc5e7a60",
   "metadata": {},
   "outputs": [],
   "source": [
    "category237"
   ]
  },
  {
   "cell_type": "code",
   "execution_count": null,
   "id": "11232cda-8018-4673-aa3e-d8ca7f012033",
   "metadata": {},
   "outputs": [],
   "source": [
    "category237[(category237.Month  6)].iloc[0]"
   ]
  },
  {
   "cell_type": "code",
   "execution_count": null,
   "id": "36c71014-7d48-448f-85a9-d7e1011ff558",
   "metadata": {},
   "outputs": [],
   "source": [
    "category237.loc[category237.Month!=3].index[0]"
   ]
  },
  {
   "cell_type": "code",
   "execution_count": null,
   "id": "fa1f7126-22f2-4902-a83b-dc56b58e096e",
   "metadata": {},
   "outputs": [],
   "source": [
    "category237[category237['Month']==3].index[0]"
   ]
  },
  {
   "cell_type": "code",
   "execution_count": null,
   "id": "626f2e8c-bb59-4ccc-a303-c87d59c638ea",
   "metadata": {},
   "outputs": [],
   "source": [
    "category237.loc[[95]]"
   ]
  },
  {
   "cell_type": "code",
   "execution_count": null,
   "id": "71544e5b-a975-4362-89d5-6707a9258ae2",
   "metadata": {},
   "outputs": [],
   "source": [
    "category237.loc[(category237['Year']==2021)&(category237['Month']==3)]"
   ]
  },
  {
   "cell_type": "code",
   "execution_count": null,
   "id": "352c38dd-e422-47b1-875b-1282f441112b",
   "metadata": {},
   "outputs": [],
   "source": [
    "keys"
   ]
  },
  {
   "cell_type": "code",
   "execution_count": null,
   "id": "9290b328-96f8-4aa3-a81d-b961ed532a37",
   "metadata": {},
   "outputs": [],
   "source": []
  },
  {
   "cell_type": "code",
   "execution_count": 116,
   "id": "ca284d1d-5df7-4e1c-b83d-ba4c95cd843f",
   "metadata": {},
   "outputs": [
    {
     "name": "stdout",
     "output_type": "stream",
     "text": [
      "   Category  Year  Month  Quantity  Value\n",
      "0       NaN   NaN    NaN       NaN    NaN\n",
      "   Category  Year  Month  Quantity  Value\n",
      "0       NaN   NaN    NaN       NaN    NaN\n",
      "0       NaN   NaN    NaN       NaN    NaN\n",
      "   Category  Year  Month  Quantity  Value\n",
      "0       NaN   NaN    NaN       NaN    NaN\n",
      "0       NaN   NaN    NaN       NaN    NaN\n",
      "0       NaN   NaN    NaN       NaN    NaN\n",
      "   Category  Year  Month  Quantity  Value\n",
      "0       NaN   NaN    NaN       NaN    NaN\n",
      "0       NaN   NaN    NaN       NaN    NaN\n",
      "0       NaN   NaN    NaN       NaN    NaN\n",
      "0       NaN   NaN    NaN       NaN    NaN\n",
      "   Category  Year  Month  Quantity  Value\n",
      "0       NaN   NaN    NaN       NaN    NaN\n",
      "0       NaN   NaN    NaN       NaN    NaN\n",
      "0       NaN   NaN    NaN       NaN    NaN\n",
      "0       NaN   NaN    NaN       NaN    NaN\n",
      "0       NaN   NaN    NaN       NaN    NaN\n",
      "   Category  Year  Month  Quantity  Value\n",
      "0       NaN   NaN    NaN       NaN    NaN\n",
      "0       NaN   NaN    NaN       NaN    NaN\n",
      "0       NaN   NaN    NaN       NaN    NaN\n",
      "0       NaN   NaN    NaN       NaN    NaN\n",
      "0       NaN   NaN    NaN       NaN    NaN\n",
      "0       NaN   NaN    NaN       NaN    NaN\n",
      "   Category  Year  Month  Quantity  Value\n",
      "0       NaN   NaN    NaN       NaN    NaN\n",
      "0       NaN   NaN    NaN       NaN    NaN\n",
      "0       NaN   NaN    NaN       NaN    NaN\n",
      "0       NaN   NaN    NaN       NaN    NaN\n",
      "0       NaN   NaN    NaN       NaN    NaN\n",
      "0       NaN   NaN    NaN       NaN    NaN\n",
      "0       NaN   NaN    NaN       NaN    NaN\n",
      "   Category  Year  Month  Quantity  Value\n",
      "0       NaN   NaN    NaN       NaN    NaN\n",
      "0       NaN   NaN    NaN       NaN    NaN\n",
      "0       NaN   NaN    NaN       NaN    NaN\n",
      "0       NaN   NaN    NaN       NaN    NaN\n",
      "0       NaN   NaN    NaN       NaN    NaN\n",
      "0       NaN   NaN    NaN       NaN    NaN\n",
      "0       NaN   NaN    NaN       NaN    NaN\n",
      "0       NaN   NaN    NaN       NaN    NaN\n",
      "   Category  Year  Month  Quantity  Value\n",
      "0       NaN   NaN    NaN       NaN    NaN\n",
      "0       NaN   NaN    NaN       NaN    NaN\n",
      "0       NaN   NaN    NaN       NaN    NaN\n",
      "0       NaN   NaN    NaN       NaN    NaN\n",
      "0       NaN   NaN    NaN       NaN    NaN\n",
      "0       NaN   NaN    NaN       NaN    NaN\n",
      "0       NaN   NaN    NaN       NaN    NaN\n",
      "0       NaN   NaN    NaN       NaN    NaN\n",
      "0       NaN   NaN    NaN       NaN    NaN\n",
      "   Category  Year  Month  Quantity  Value\n",
      "0       NaN   NaN    NaN       NaN    NaN\n",
      "0       NaN   NaN    NaN       NaN    NaN\n",
      "0       NaN   NaN    NaN       NaN    NaN\n",
      "0       NaN   NaN    NaN       NaN    NaN\n",
      "0       NaN   NaN    NaN       NaN    NaN\n",
      "0       NaN   NaN    NaN       NaN    NaN\n",
      "0       NaN   NaN    NaN       NaN    NaN\n",
      "0       NaN   NaN    NaN       NaN    NaN\n",
      "0       NaN   NaN    NaN       NaN    NaN\n",
      "0       NaN   NaN    NaN       NaN    NaN\n",
      "   Category  Year  Month  Quantity  Value\n",
      "0       NaN   NaN    NaN       NaN    NaN\n",
      "   Category  Year  Month  Quantity  Value\n",
      "0       NaN   NaN    NaN       NaN    NaN\n",
      "0       NaN   NaN    NaN       NaN    NaN\n",
      "   Category  Year  Month  Quantity  Value\n",
      "0       NaN   NaN    NaN       NaN    NaN\n",
      "0       NaN   NaN    NaN       NaN    NaN\n",
      "0       NaN   NaN    NaN       NaN    NaN\n",
      "   Category  Year  Month  Quantity  Value\n",
      "0       NaN   NaN    NaN       NaN    NaN\n",
      "0       NaN   NaN    NaN       NaN    NaN\n",
      "0       NaN   NaN    NaN       NaN    NaN\n",
      "0       NaN   NaN    NaN       NaN    NaN\n",
      "   Category  Year  Month  Quantity  Value\n",
      "0       NaN   NaN    NaN       NaN    NaN\n",
      "0       NaN   NaN    NaN       NaN    NaN\n",
      "0       NaN   NaN    NaN       NaN    NaN\n",
      "0       NaN   NaN    NaN       NaN    NaN\n",
      "0       NaN   NaN    NaN       NaN    NaN\n",
      "   Category  Year  Month  Quantity  Value\n",
      "0       NaN   NaN    NaN       NaN    NaN\n",
      "0       NaN   NaN    NaN       NaN    NaN\n",
      "0       NaN   NaN    NaN       NaN    NaN\n",
      "0       NaN   NaN    NaN       NaN    NaN\n",
      "0       NaN   NaN    NaN       NaN    NaN\n",
      "0       NaN   NaN    NaN       NaN    NaN\n",
      "   Category  Year  Month  Quantity  Value\n",
      "0       NaN   NaN    NaN       NaN    NaN\n",
      "0       NaN   NaN    NaN       NaN    NaN\n",
      "0       NaN   NaN    NaN       NaN    NaN\n",
      "0       NaN   NaN    NaN       NaN    NaN\n",
      "0       NaN   NaN    NaN       NaN    NaN\n",
      "0       NaN   NaN    NaN       NaN    NaN\n",
      "0       NaN   NaN    NaN       NaN    NaN\n",
      "   Category  Year  Month  Quantity  Value\n",
      "0       NaN   NaN    NaN       NaN    NaN\n",
      "0       NaN   NaN    NaN       NaN    NaN\n",
      "0       NaN   NaN    NaN       NaN    NaN\n",
      "0       NaN   NaN    NaN       NaN    NaN\n",
      "0       NaN   NaN    NaN       NaN    NaN\n",
      "0       NaN   NaN    NaN       NaN    NaN\n",
      "0       NaN   NaN    NaN       NaN    NaN\n",
      "0       NaN   NaN    NaN       NaN    NaN\n",
      "   Category  Year  Month  Quantity  Value\n",
      "0       NaN   NaN    NaN       NaN    NaN\n",
      "0       NaN   NaN    NaN       NaN    NaN\n",
      "0       NaN   NaN    NaN       NaN    NaN\n",
      "0       NaN   NaN    NaN       NaN    NaN\n",
      "0       NaN   NaN    NaN       NaN    NaN\n",
      "0       NaN   NaN    NaN       NaN    NaN\n",
      "0       NaN   NaN    NaN       NaN    NaN\n",
      "0       NaN   NaN    NaN       NaN    NaN\n",
      "0       NaN   NaN    NaN       NaN    NaN\n",
      "   Category  Year  Month  Quantity  Value\n",
      "0       NaN   NaN    NaN       NaN    NaN\n",
      "0       NaN   NaN    NaN       NaN    NaN\n",
      "0       NaN   NaN    NaN       NaN    NaN\n",
      "0       NaN   NaN    NaN       NaN    NaN\n",
      "0       NaN   NaN    NaN       NaN    NaN\n",
      "0       NaN   NaN    NaN       NaN    NaN\n",
      "0       NaN   NaN    NaN       NaN    NaN\n",
      "0       NaN   NaN    NaN       NaN    NaN\n",
      "0       NaN   NaN    NaN       NaN    NaN\n",
      "0       NaN   NaN    NaN       NaN    NaN\n"
     ]
    }
   ],
   "source": [
    "years = [2012,2013,2014,2015,2016,2017,2018,2019,2020,2021]\n",
    "keys=search\n",
    "for n in keys:\n",
    "    globals()[f\"category{n}\"]=pandas.DataFrame()\n",
    "    \n",
    "    for i in years:\n",
    "        params = {\n",
    "            \"ctry\":'' ,\n",
    "            \"cat\": f'{n}',\n",
    "            \"delimit\": 'table',\n",
    "            \"years\": f'{i}'\n",
    "        }\n",
    "        \n",
    "        response = requests.post(\n",
    "            'https://otexa.trade.gov/scripts/tqmon2.exe/catdata',\n",
    "            data = params\n",
    "        )\n",
    "        year=pandas.read_html(response.text)[0]\n",
    "        #year['Valueperc'] = year['Value'] /year['Value'].values[0]\n",
    "        #year['quantityperc'] = year['Quantity']/year['Quantity'].values[0]\n",
    "        globals()[f\"category{n}\"]=globals()[f\"category{n}\"].append(year)\n",
    "        \n",
    "        globals()[f\"category{n}\"].to_csv(f'{n}.csv')\n",
    "        print(globals()[f\"category{n}\"])"
   ]
  },
  {
   "cell_type": "code",
   "execution_count": null,
   "id": "b1e09bd0-c524-4a52-9fe0-1988c28b101f",
   "metadata": {},
   "outputs": [],
   "source": []
  }
 ],
 "metadata": {
  "kernelspec": {
   "display_name": "Python 3",
   "language": "python",
   "name": "python3"
  },
  "language_info": {
   "codemirror_mode": {
    "name": "ipython",
    "version": 3
   },
   "file_extension": ".py",
   "mimetype": "text/x-python",
   "name": "python",
   "nbconvert_exporter": "python",
   "pygments_lexer": "ipython3",
   "version": "3.8.8"
  }
 },
 "nbformat": 4,
 "nbformat_minor": 5
}
