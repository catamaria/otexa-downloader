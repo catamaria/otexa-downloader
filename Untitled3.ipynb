{
 "cells": [
  {
   "cell_type": "code",
   "execution_count": 1,
   "id": "c631d98f-8b9e-4fb4-908e-4458417ff28c",
   "metadata": {},
   "outputs": [],
   "source": [
    "#downloads otexa data for world countries\n",
    "#for new countries\n",
    "\n",
    "\n",
    "import requests #requesting the download url\n",
    "import pandas #just for reading the html\n"
   ]
  },
  {
   "cell_type": "code",
   "execution_count": 2,
   "id": "9e22f02b-a328-4a85-b369-a640f7ada631",
   "metadata": {},
   "outputs": [],
   "source": [
    "years = [2012,2013,2014,2015,2016,2017,2018,2019,2020,2021] #years you want to download 1989-\n",
    "keys=[339,347,348,340,352,652] #import categories you need, its a list"
   ]
  },
  {
   "cell_type": "code",
   "execution_count": null,
   "id": "e7ed1424-a4e8-4fb9-804d-2cc106c0a4d8",
   "metadata": {},
   "outputs": [],
   "source": [
    "for n in keys:\n",
    "    globals()[f\"category{n}\"]=pandas.DataFrame() #dynamically create a dataframe object\n",
    "    \n",
    "    for i in years:\n",
    "        params = {\n",
    "            \"ctry\":'' ,\n",
    "            \"cat\": f'{n}',\n",
    "            \"delimit\": 'table',\n",
    "            \"years\": f'{i}'\n",
    "        }\n",
    "        \n",
    "        response = requests.post(\n",
    "            'https://otexa.trade.gov/scripts/tqmon2.exe/catdata',\n",
    "            data = params #payload\n",
    "        )\n",
    "        year=pandas.read_html(response.text)[0] #read first html table\n",
    "        globals()[f\"category{n}\"]=globals()[f\"category{n}\"].append(year)\n",
    "        \n",
    "        globals()[f\"category{n}\"].to_csv(f'{n}.csv') #save to a csv as a category###.csv\n",
    "        print(globals()[f\"category{n}\"])"
   ]
  },
  {
   "cell_type": "code",
   "execution_count": null,
   "id": "1bbc0706-396a-4b28-95bc-730d7191c5e3",
   "metadata": {},
   "outputs": [],
   "source": [
    "months=[1,2,3,4,5,6,7,8,9,10,11,12]\n",
    "years=[2012,2013,2014,2015,2016,2017,2018,2019,2020,2021]\n",
    "\n",
    "dfcat=pd.DataFrame()\n",
    "for c in categories:\n",
    "    category237=pd.read_csv(f'{c}.csv')\n",
    "    for y in years:\n",
    "        #print(y)\n",
    "        yearn=category237.loc[(category237['Year']==y)]\n",
    "        yearn['catgory']=c\n",
    "        for m in months:\n",
    "            #print(m)\n",
    "            #print(yearn.loc[(yearn['Month']==m)])\n",
    "            monthn=yearn.loc[(yearn['Month']==m)]\n",
    "            monthn=monthn.reset_index()\n",
    "            try:\n",
    "                monthn['Valueperc'] = monthn['Value'] /monthn['Value'].values[0]\n",
    "                monthn['quantityperc'] = monthn['Quantity']/monthn['Quantity'].values[0]\n",
    "                dfcat=dfcat.append(monthn)\n",
    "                #display.clear_output(wait=True)\n",
    "            except Exception:\n",
    "                pass\n",
    "            #print(monthn)"
   ]
  }
 ],
 "metadata": {
  "kernelspec": {
   "display_name": "Python 3",
   "language": "python",
   "name": "python3"
  },
  "language_info": {
   "codemirror_mode": {
    "name": "ipython",
    "version": 3
   },
   "file_extension": ".py",
   "mimetype": "text/x-python",
   "name": "python",
   "nbconvert_exporter": "python",
   "pygments_lexer": "ipython3",
   "version": "3.8.8"
  }
 },
 "nbformat": 4,
 "nbformat_minor": 5
}
